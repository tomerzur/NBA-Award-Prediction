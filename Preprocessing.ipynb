{
 "cells": [
  {
   "cell_type": "markdown",
   "metadata": {},
   "source": [
    "<h1>Preprocessing the Data</h1>"
   ]
  },
  {
   "cell_type": "code",
   "execution_count": 11,
   "metadata": {},
   "outputs": [],
   "source": [
    "# drop award, first place vote columns\n",
    "# one hot encode position, team\n",
    "# train test development split\n",
    "\n",
    "import pandas as pd"
   ]
  },
  {
   "cell_type": "markdown",
   "metadata": {},
   "source": [
    "In this notebook I clean up the datasets that I have created, one-hot encode my categorical variables (position and team), and split up my data into test, validation, and train sets, and separate my x values (features) and my y value (award points a player received).\n",
    "<br><br>\n",
    "This notebook should be run after running the 'get_full_dataset' notebook."
   ]
  },
  {
   "cell_type": "code",
   "execution_count": 12,
   "metadata": {},
   "outputs": [],
   "source": [
    "mvp_data = pd.read_csv('data/mvp_data.csv')\n",
    "dpoy_data = pd.read_csv('data/dpoy_data.csv')\n",
    "roy_data = pd.read_csv('data/roy_data.csv')\n",
    "mip_data = pd.read_csv('data/mip_data.csv')\n",
    "smoy_data = pd.read_csv('data/smoy_data.csv')"
   ]
  },
  {
   "cell_type": "code",
   "execution_count": 13,
   "metadata": {},
   "outputs": [],
   "source": [
    "# if player played with multiple teams, replace team value with 'Multiple' (reduces num cols after one hot encoding from 1000+ to 103)\n",
    "def cleanup_multiple_teams(team):\n",
    "    if len(team) > 3:\n",
    "        return 'Multiple'\n",
    "    else:\n",
    "        return team\n",
    "\n",
    "mvp_data['team'] = mvp_data['team'].apply(cleanup_multiple_teams)\n",
    "dpoy_data['team'] = dpoy_data['team'].apply(cleanup_multiple_teams)\n",
    "roy_data['team'] = roy_data['team'].apply(cleanup_multiple_teams)\n",
    "mip_data['team'] = mip_data['team'].apply(cleanup_multiple_teams)\n",
    "smoy_data['team'] = smoy_data['team'].apply(cleanup_multiple_teams)"
   ]
  },
  {
   "cell_type": "code",
   "execution_count": 14,
   "metadata": {},
   "outputs": [],
   "source": [
    "# get rid of columns that are not needed, one-hot encode categorical variables\n",
    "def cleanup_cols(award_data):\n",
    "    award_data = award_data.drop(columns=['Unnamed: 0', 'award', 'first_place_votes'])\n",
    "    award_data = pd.get_dummies(award_data, columns=['position'])\n",
    "    award_data = pd.get_dummies(award_data, columns=['team'])\n",
    "    return award_data\n",
    "    \n",
    "mvp_data = cleanup_cols(mvp_data)\n",
    "dpoy_data = cleanup_cols(dpoy_data)\n",
    "roy_data = cleanup_cols(roy_data)\n",
    "mip_data = cleanup_cols(mip_data)\n",
    "smoy_data = cleanup_cols(smoy_data)"
   ]
  },
  {
   "cell_type": "code",
   "execution_count": 15,
   "metadata": {},
   "outputs": [],
   "source": [
    "# split data into train, dev, and test data\n",
    "def train_test_split(award_data):\n",
    "    test_data = award_data[award_data['season'] >= 2016]\n",
    "    dev_data = award_data[award_data['season'] >= 2011]\n",
    "    dev_data = dev_data[dev_data['season'] <= 2015]\n",
    "    train_data = award_data[award_data['season'] <= 2010]\n",
    "    test_data = test_data.reset_index(drop=True)\n",
    "    dev_data = dev_data.reset_index(drop=True)\n",
    "    train_data = train_data.reset_index(drop=True)\n",
    "    return train_data, dev_data, test_data"
   ]
  },
  {
   "cell_type": "code",
   "execution_count": 16,
   "metadata": {},
   "outputs": [],
   "source": [
    "def x_y_split(award_data):\n",
    "    x_data = award_data.drop(columns=['award_pts_won'])\n",
    "    y_data = award_data[['award_pts_won']]\n",
    "    return x_data, y_data"
   ]
  },
  {
   "cell_type": "code",
   "execution_count": 17,
   "metadata": {},
   "outputs": [],
   "source": [
    "# run functions defined above and save new datasets to csv files\n",
    "for award_name, dataset in [('mvp', mvp_data), ('dpoy', dpoy_data), ('roy', roy_data), ('mip', mip_data), ('smoy', smoy_data)]:\n",
    "    train, dev, test = train_test_split(dataset)\n",
    "    x_train, y_train = x_y_split(train)\n",
    "    x_dev, y_dev = x_y_split(dev)\n",
    "    x_test, y_test = x_y_split(test)\n",
    "    x_train.to_csv(f'data/train_x_{award_name}.csv')\n",
    "    y_train.to_csv(f'data/train_y_{award_name}.csv')\n",
    "    x_dev.to_csv(f'data/dev_x_{award_name}.csv')\n",
    "    y_dev.to_csv(f'data/dev_y_{award_name}.csv')\n",
    "    x_test.to_csv(f'data/test_x_{award_name}.csv')\n",
    "    y_test.to_csv(f'data/test_y_{award_name}.csv')"
   ]
  },
  {
   "cell_type": "code",
   "execution_count": null,
   "metadata": {},
   "outputs": [],
   "source": []
  }
 ],
 "metadata": {
  "kernelspec": {
   "display_name": "Python 3",
   "language": "python",
   "name": "python3"
  },
  "language_info": {
   "codemirror_mode": {
    "name": "ipython",
    "version": 3
   },
   "file_extension": ".py",
   "mimetype": "text/x-python",
   "name": "python",
   "nbconvert_exporter": "python",
   "pygments_lexer": "ipython3",
   "version": "3.6.12"
  }
 },
 "nbformat": 4,
 "nbformat_minor": 4
}
